{
 "cells": [
  {
   "cell_type": "code",
   "execution_count": 3,
   "metadata": {},
   "outputs": [],
   "source": [
    "import pandas as pd"
   ]
  },
  {
   "cell_type": "code",
   "execution_count": 4,
   "metadata": {},
   "outputs": [
    {
     "data": {
      "text/plain": [
       "(7456, 16)"
      ]
     },
     "execution_count": 4,
     "metadata": {},
     "output_type": "execute_result"
    }
   ],
   "source": [
    "# Importing Data Frame \n",
    "df= pd.read_csv('https://raw.githubusercontent.com/HadenMoore/Dash-App/master/Data/data.csv') \n",
    "# Renaming Transmission Type Column to Transmission \n",
    "df.rename(columns={'Transmission Type': 'Transmission'}, inplace= True)\n",
    "# Converting Manual to 1's and Automatic to 0's \n",
    "df['Transmission'] = df['Transmission'].map({'MANUAL': 1, 'AUTOMATIC': 0})\n",
    "# Renaming Engine HP Column to Horsepower \n",
    "df.rename(columns={'Engine HP': 'Horsepower'}, inplace= True)\n",
    "# Renaming Column 'Number of Doors' to 'Doors'\n",
    "df.rename(columns= {'Number of Doors': 'Doors'}, inplace= True)\n",
    "# Renaming Column 'highway MPG' to 'Hwy_Mpg'\n",
    "df.rename(columns= {'highway MPG': 'hwy_Mpg'}, inplace= True)\n",
    "# Dropping NaNs\n",
    "new_df = df.dropna()\n",
    "new_df.shape"
   ]
  },
  {
   "cell_type": "code",
   "execution_count": 5,
   "metadata": {},
   "outputs": [
    {
     "data": {
      "text/html": [
       "<div>\n",
       "<style scoped>\n",
       "    .dataframe tbody tr th:only-of-type {\n",
       "        vertical-align: middle;\n",
       "    }\n",
       "\n",
       "    .dataframe tbody tr th {\n",
       "        vertical-align: top;\n",
       "    }\n",
       "\n",
       "    .dataframe thead th {\n",
       "        text-align: right;\n",
       "    }\n",
       "</style>\n",
       "<table border=\"1\" class=\"dataframe\">\n",
       "  <thead>\n",
       "    <tr style=\"text-align: right;\">\n",
       "      <th></th>\n",
       "      <th>Make</th>\n",
       "      <th>Model</th>\n",
       "      <th>Year</th>\n",
       "      <th>Engine Fuel Type</th>\n",
       "      <th>Horsepower</th>\n",
       "      <th>Engine Cylinders</th>\n",
       "      <th>Transmission</th>\n",
       "      <th>Driven_Wheels</th>\n",
       "      <th>Doors</th>\n",
       "      <th>Market Category</th>\n",
       "      <th>Vehicle Size</th>\n",
       "      <th>Vehicle Style</th>\n",
       "      <th>hwy_Mpg</th>\n",
       "      <th>city mpg</th>\n",
       "      <th>Popularity</th>\n",
       "      <th>MSRP</th>\n",
       "    </tr>\n",
       "  </thead>\n",
       "  <tbody>\n",
       "    <tr>\n",
       "      <td>0</td>\n",
       "      <td>BMW</td>\n",
       "      <td>1 Series M</td>\n",
       "      <td>2011</td>\n",
       "      <td>premium unleaded (required)</td>\n",
       "      <td>335.0</td>\n",
       "      <td>6.0</td>\n",
       "      <td>1.0</td>\n",
       "      <td>rear wheel drive</td>\n",
       "      <td>2.0</td>\n",
       "      <td>Factory Tuner,Luxury,High-Performance</td>\n",
       "      <td>Compact</td>\n",
       "      <td>Coupe</td>\n",
       "      <td>26</td>\n",
       "      <td>19</td>\n",
       "      <td>3916</td>\n",
       "      <td>46135</td>\n",
       "    </tr>\n",
       "    <tr>\n",
       "      <td>1</td>\n",
       "      <td>BMW</td>\n",
       "      <td>1 Series</td>\n",
       "      <td>2011</td>\n",
       "      <td>premium unleaded (required)</td>\n",
       "      <td>300.0</td>\n",
       "      <td>6.0</td>\n",
       "      <td>1.0</td>\n",
       "      <td>rear wheel drive</td>\n",
       "      <td>2.0</td>\n",
       "      <td>Luxury,Performance</td>\n",
       "      <td>Compact</td>\n",
       "      <td>Convertible</td>\n",
       "      <td>28</td>\n",
       "      <td>19</td>\n",
       "      <td>3916</td>\n",
       "      <td>40650</td>\n",
       "    </tr>\n",
       "    <tr>\n",
       "      <td>2</td>\n",
       "      <td>BMW</td>\n",
       "      <td>1 Series</td>\n",
       "      <td>2011</td>\n",
       "      <td>premium unleaded (required)</td>\n",
       "      <td>300.0</td>\n",
       "      <td>6.0</td>\n",
       "      <td>1.0</td>\n",
       "      <td>rear wheel drive</td>\n",
       "      <td>2.0</td>\n",
       "      <td>Luxury,High-Performance</td>\n",
       "      <td>Compact</td>\n",
       "      <td>Coupe</td>\n",
       "      <td>28</td>\n",
       "      <td>20</td>\n",
       "      <td>3916</td>\n",
       "      <td>36350</td>\n",
       "    </tr>\n",
       "    <tr>\n",
       "      <td>3</td>\n",
       "      <td>BMW</td>\n",
       "      <td>1 Series</td>\n",
       "      <td>2011</td>\n",
       "      <td>premium unleaded (required)</td>\n",
       "      <td>230.0</td>\n",
       "      <td>6.0</td>\n",
       "      <td>1.0</td>\n",
       "      <td>rear wheel drive</td>\n",
       "      <td>2.0</td>\n",
       "      <td>Luxury,Performance</td>\n",
       "      <td>Compact</td>\n",
       "      <td>Coupe</td>\n",
       "      <td>28</td>\n",
       "      <td>18</td>\n",
       "      <td>3916</td>\n",
       "      <td>29450</td>\n",
       "    </tr>\n",
       "    <tr>\n",
       "      <td>4</td>\n",
       "      <td>BMW</td>\n",
       "      <td>1 Series</td>\n",
       "      <td>2011</td>\n",
       "      <td>premium unleaded (required)</td>\n",
       "      <td>230.0</td>\n",
       "      <td>6.0</td>\n",
       "      <td>1.0</td>\n",
       "      <td>rear wheel drive</td>\n",
       "      <td>2.0</td>\n",
       "      <td>Luxury</td>\n",
       "      <td>Compact</td>\n",
       "      <td>Convertible</td>\n",
       "      <td>28</td>\n",
       "      <td>18</td>\n",
       "      <td>3916</td>\n",
       "      <td>34500</td>\n",
       "    </tr>\n",
       "  </tbody>\n",
       "</table>\n",
       "</div>"
      ],
      "text/plain": [
       "  Make       Model  Year             Engine Fuel Type  Horsepower  \\\n",
       "0  BMW  1 Series M  2011  premium unleaded (required)       335.0   \n",
       "1  BMW    1 Series  2011  premium unleaded (required)       300.0   \n",
       "2  BMW    1 Series  2011  premium unleaded (required)       300.0   \n",
       "3  BMW    1 Series  2011  premium unleaded (required)       230.0   \n",
       "4  BMW    1 Series  2011  premium unleaded (required)       230.0   \n",
       "\n",
       "   Engine Cylinders  Transmission     Driven_Wheels  Doors  \\\n",
       "0               6.0           1.0  rear wheel drive    2.0   \n",
       "1               6.0           1.0  rear wheel drive    2.0   \n",
       "2               6.0           1.0  rear wheel drive    2.0   \n",
       "3               6.0           1.0  rear wheel drive    2.0   \n",
       "4               6.0           1.0  rear wheel drive    2.0   \n",
       "\n",
       "                         Market Category Vehicle Size Vehicle Style  hwy_Mpg  \\\n",
       "0  Factory Tuner,Luxury,High-Performance      Compact         Coupe       26   \n",
       "1                     Luxury,Performance      Compact   Convertible       28   \n",
       "2                Luxury,High-Performance      Compact         Coupe       28   \n",
       "3                     Luxury,Performance      Compact         Coupe       28   \n",
       "4                                 Luxury      Compact   Convertible       28   \n",
       "\n",
       "   city mpg  Popularity   MSRP  \n",
       "0        19        3916  46135  \n",
       "1        19        3916  40650  \n",
       "2        20        3916  36350  \n",
       "3        18        3916  29450  \n",
       "4        18        3916  34500  "
      ]
     },
     "execution_count": 5,
     "metadata": {},
     "output_type": "execute_result"
    }
   ],
   "source": [
    "new_df.head()"
   ]
  },
  {
   "cell_type": "code",
   "execution_count": 40,
   "metadata": {},
   "outputs": [
    {
     "data": {
      "text/plain": [
       "2017"
      ]
     },
     "execution_count": 40,
     "metadata": {},
     "output_type": "execute_result"
    }
   ],
   "source": [
    "new_df.Year.max()"
   ]
  },
  {
   "cell_type": "code",
   "execution_count": 42,
   "metadata": {},
   "outputs": [
    {
     "data": {
      "text/html": [
       "<div>\n",
       "<style scoped>\n",
       "    .dataframe tbody tr th:only-of-type {\n",
       "        vertical-align: middle;\n",
       "    }\n",
       "\n",
       "    .dataframe tbody tr th {\n",
       "        vertical-align: top;\n",
       "    }\n",
       "\n",
       "    .dataframe thead th {\n",
       "        text-align: right;\n",
       "    }\n",
       "</style>\n",
       "<table border=\"1\" class=\"dataframe\">\n",
       "  <thead>\n",
       "    <tr style=\"text-align: right;\">\n",
       "      <th></th>\n",
       "      <th>Year</th>\n",
       "      <th>Horsepower</th>\n",
       "      <th>Doors</th>\n",
       "      <th>Transmission</th>\n",
       "    </tr>\n",
       "  </thead>\n",
       "  <tbody>\n",
       "    <tr>\n",
       "      <td>count</td>\n",
       "      <td>7456.000000</td>\n",
       "      <td>7456.000000</td>\n",
       "      <td>7456.000000</td>\n",
       "      <td>7456.000000</td>\n",
       "    </tr>\n",
       "    <tr>\n",
       "      <td>mean</td>\n",
       "      <td>2011.867623</td>\n",
       "      <td>270.858771</td>\n",
       "      <td>3.447425</td>\n",
       "      <td>0.227334</td>\n",
       "    </tr>\n",
       "    <tr>\n",
       "      <td>std</td>\n",
       "      <td>6.483745</td>\n",
       "      <td>108.159852</td>\n",
       "      <td>0.881845</td>\n",
       "      <td>0.419138</td>\n",
       "    </tr>\n",
       "    <tr>\n",
       "      <td>min</td>\n",
       "      <td>1990.000000</td>\n",
       "      <td>55.000000</td>\n",
       "      <td>2.000000</td>\n",
       "      <td>0.000000</td>\n",
       "    </tr>\n",
       "    <tr>\n",
       "      <td>25%</td>\n",
       "      <td>2010.000000</td>\n",
       "      <td>189.000000</td>\n",
       "      <td>2.000000</td>\n",
       "      <td>0.000000</td>\n",
       "    </tr>\n",
       "    <tr>\n",
       "      <td>50%</td>\n",
       "      <td>2015.000000</td>\n",
       "      <td>265.000000</td>\n",
       "      <td>4.000000</td>\n",
       "      <td>0.000000</td>\n",
       "    </tr>\n",
       "    <tr>\n",
       "      <td>75%</td>\n",
       "      <td>2016.000000</td>\n",
       "      <td>318.000000</td>\n",
       "      <td>4.000000</td>\n",
       "      <td>0.000000</td>\n",
       "    </tr>\n",
       "    <tr>\n",
       "      <td>max</td>\n",
       "      <td>2017.000000</td>\n",
       "      <td>707.000000</td>\n",
       "      <td>4.000000</td>\n",
       "      <td>1.000000</td>\n",
       "    </tr>\n",
       "  </tbody>\n",
       "</table>\n",
       "</div>"
      ],
      "text/plain": [
       "              Year   Horsepower        Doors  Transmission\n",
       "count  7456.000000  7456.000000  7456.000000   7456.000000\n",
       "mean   2011.867623   270.858771     3.447425      0.227334\n",
       "std       6.483745   108.159852     0.881845      0.419138\n",
       "min    1990.000000    55.000000     2.000000      0.000000\n",
       "25%    2010.000000   189.000000     2.000000      0.000000\n",
       "50%    2015.000000   265.000000     4.000000      0.000000\n",
       "75%    2016.000000   318.000000     4.000000      0.000000\n",
       "max    2017.000000   707.000000     4.000000      1.000000"
      ]
     },
     "execution_count": 42,
     "metadata": {},
     "output_type": "execute_result"
    }
   ],
   "source": [
    "X_train.describe()"
   ]
  },
  {
   "cell_type": "code",
   "execution_count": 7,
   "metadata": {},
   "outputs": [
    {
     "data": {
      "text/plain": [
       "2485.3333333333335"
      ]
     },
     "execution_count": 7,
     "metadata": {},
     "output_type": "execute_result"
    }
   ],
   "source": [
    "# Dividing the Dataframe for train/test/split \n",
    "# So I will be using 2485 rows to train and 2694 to test.  \n",
    "7456 / 3"
   ]
  },
  {
   "cell_type": "code",
   "execution_count": 8,
   "metadata": {},
   "outputs": [],
   "source": [
    "# Assigning to X, y\n",
    "# Testing on last 2,485,\n",
    "# Validating on the 2,485,\n",
    "# Train on the last 2,485,\n",
    "test = new_df \n",
    "val = new_df\n",
    "train = new_df    \n",
    "target = 'MSRP'\n",
    "features = ['Year', \n",
    "            'Horsepower',\n",
    "            'Doors', \n",
    "            'Transmission',\n",
    "            ]\n",
    "\n",
    "X_train = train[features]\n",
    "y_train = train[target]\n",
    "X_val = val[features]\n",
    "y_val = val[target]\n",
    "X_test = test[features]\n",
    "y_test = test[target]"
   ]
  },
  {
   "cell_type": "code",
   "execution_count": 9,
   "metadata": {},
   "outputs": [
    {
     "data": {
      "image/png": "[encoded data removed]",
      "text/plain": [
       "<Figure size 432x288 with 1 Axes>"
      ]
     },
     "metadata": {
      "needs_background": "light"
     },
     "output_type": "display_data"
    }
   ],
   "source": [
    "%matplotlib inline\n",
    "import seaborn as sns\n",
    "sns.distplot(y_train);"
   ]
  },
  {
   "cell_type": "code",
   "execution_count": 10,
   "metadata": {},
   "outputs": [
    {
     "data": {
      "image/png": "[encoded data removed]",
      "text/plain": [
       "<Figure size 432x288 with 1 Axes>"
      ]
     },
     "metadata": {
      "needs_background": "light"
     },
     "output_type": "display_data"
    }
   ],
   "source": [
    "# The Target has a Heavy right skew. \n",
    "# Performing Log Transform to noramlly distribute the Target\n",
    "\n",
    "import numpy as np\n",
    "y_train_log = np.log1p(y_train)\n",
    "y_val_log = np.log1p(y_val)\n",
    "y_test_log = np.log1p(y_test)\n",
    "\n",
    "# Plotting the transformed target's distribution\n",
    "sns.distplot(y_train_log);"
   ]
  },
  {
   "cell_type": "code",
   "execution_count": 11,
   "metadata": {},
   "outputs": [
    {
     "data": {
      "text/html": [
       "<div>\n",
       "<style scoped>\n",
       "    .dataframe tbody tr th:only-of-type {\n",
       "        vertical-align: middle;\n",
       "    }\n",
       "\n",
       "    .dataframe tbody tr th {\n",
       "        vertical-align: top;\n",
       "    }\n",
       "\n",
       "    .dataframe thead th {\n",
       "        text-align: right;\n",
       "    }\n",
       "</style>\n",
       "<table border=\"1\" class=\"dataframe\">\n",
       "  <thead>\n",
       "    <tr style=\"text-align: right;\">\n",
       "      <th></th>\n",
       "      <th>Year</th>\n",
       "      <th>Horsepower</th>\n",
       "      <th>Engine Cylinders</th>\n",
       "      <th>Transmission</th>\n",
       "      <th>Doors</th>\n",
       "      <th>hwy_Mpg</th>\n",
       "      <th>city mpg</th>\n",
       "      <th>Popularity</th>\n",
       "      <th>MSRP</th>\n",
       "    </tr>\n",
       "  </thead>\n",
       "  <tbody>\n",
       "    <tr>\n",
       "      <td>count</td>\n",
       "      <td>7456.000000</td>\n",
       "      <td>7456.000000</td>\n",
       "      <td>7456.000000</td>\n",
       "      <td>7456.000000</td>\n",
       "      <td>7456.000000</td>\n",
       "      <td>7456.000000</td>\n",
       "      <td>7456.000000</td>\n",
       "      <td>7456.000000</td>\n",
       "      <td>7.456000e+03</td>\n",
       "    </tr>\n",
       "    <tr>\n",
       "      <td>mean</td>\n",
       "      <td>2011.867623</td>\n",
       "      <td>270.858771</td>\n",
       "      <td>5.788358</td>\n",
       "      <td>0.227334</td>\n",
       "      <td>3.447425</td>\n",
       "      <td>26.312366</td>\n",
       "      <td>19.278031</td>\n",
       "      <td>1485.860649</td>\n",
       "      <td>4.596413e+04</td>\n",
       "    </tr>\n",
       "    <tr>\n",
       "      <td>std</td>\n",
       "      <td>6.483745</td>\n",
       "      <td>108.159852</td>\n",
       "      <td>1.804459</td>\n",
       "      <td>0.419138</td>\n",
       "      <td>0.881845</td>\n",
       "      <td>5.883413</td>\n",
       "      <td>5.784025</td>\n",
       "      <td>1430.444781</td>\n",
       "      <td>5.412418e+04</td>\n",
       "    </tr>\n",
       "    <tr>\n",
       "      <td>min</td>\n",
       "      <td>1990.000000</td>\n",
       "      <td>55.000000</td>\n",
       "      <td>3.000000</td>\n",
       "      <td>0.000000</td>\n",
       "      <td>2.000000</td>\n",
       "      <td>12.000000</td>\n",
       "      <td>8.000000</td>\n",
       "      <td>2.000000</td>\n",
       "      <td>2.000000e+03</td>\n",
       "    </tr>\n",
       "    <tr>\n",
       "      <td>25%</td>\n",
       "      <td>2010.000000</td>\n",
       "      <td>189.000000</td>\n",
       "      <td>4.000000</td>\n",
       "      <td>0.000000</td>\n",
       "      <td>2.000000</td>\n",
       "      <td>22.000000</td>\n",
       "      <td>16.000000</td>\n",
       "      <td>520.000000</td>\n",
       "      <td>2.533000e+04</td>\n",
       "    </tr>\n",
       "    <tr>\n",
       "      <td>50%</td>\n",
       "      <td>2015.000000</td>\n",
       "      <td>265.000000</td>\n",
       "      <td>6.000000</td>\n",
       "      <td>0.000000</td>\n",
       "      <td>4.000000</td>\n",
       "      <td>26.000000</td>\n",
       "      <td>18.000000</td>\n",
       "      <td>1013.000000</td>\n",
       "      <td>3.480000e+04</td>\n",
       "    </tr>\n",
       "    <tr>\n",
       "      <td>75%</td>\n",
       "      <td>2016.000000</td>\n",
       "      <td>318.000000</td>\n",
       "      <td>6.000000</td>\n",
       "      <td>0.000000</td>\n",
       "      <td>4.000000</td>\n",
       "      <td>30.000000</td>\n",
       "      <td>21.000000</td>\n",
       "      <td>2009.000000</td>\n",
       "      <td>4.770000e+04</td>\n",
       "    </tr>\n",
       "    <tr>\n",
       "      <td>max</td>\n",
       "      <td>2017.000000</td>\n",
       "      <td>707.000000</td>\n",
       "      <td>12.000000</td>\n",
       "      <td>1.000000</td>\n",
       "      <td>4.000000</td>\n",
       "      <td>53.000000</td>\n",
       "      <td>58.000000</td>\n",
       "      <td>5657.000000</td>\n",
       "      <td>1.382750e+06</td>\n",
       "    </tr>\n",
       "  </tbody>\n",
       "</table>\n",
       "</div>"
      ],
      "text/plain": [
       "              Year   Horsepower  Engine Cylinders  Transmission        Doors  \\\n",
       "count  7456.000000  7456.000000       7456.000000   7456.000000  7456.000000   \n",
       "mean   2011.867623   270.858771          5.788358      0.227334     3.447425   \n",
       "std       6.483745   108.159852          1.804459      0.419138     0.881845   \n",
       "min    1990.000000    55.000000          3.000000      0.000000     2.000000   \n",
       "25%    2010.000000   189.000000          4.000000      0.000000     2.000000   \n",
       "50%    2015.000000   265.000000          6.000000      0.000000     4.000000   \n",
       "75%    2016.000000   318.000000          6.000000      0.000000     4.000000   \n",
       "max    2017.000000   707.000000         12.000000      1.000000     4.000000   \n",
       "\n",
       "           hwy_Mpg     city mpg   Popularity          MSRP  \n",
       "count  7456.000000  7456.000000  7456.000000  7.456000e+03  \n",
       "mean     26.312366    19.278031  1485.860649  4.596413e+04  \n",
       "std       5.883413     5.784025  1430.444781  5.412418e+04  \n",
       "min      12.000000     8.000000     2.000000  2.000000e+03  \n",
       "25%      22.000000    16.000000   520.000000  2.533000e+04  \n",
       "50%      26.000000    18.000000  1013.000000  3.480000e+04  \n",
       "75%      30.000000    21.000000  2009.000000  4.770000e+04  \n",
       "max      53.000000    58.000000  5657.000000  1.382750e+06  "
      ]
     },
     "execution_count": 11,
     "metadata": {},
     "output_type": "execute_result"
    }
   ],
   "source": [
    "features = ['Year', 'Horsepower', 'Doors', 'Transmission']\n",
    "train.describe()\n"
   ]
  },
  {
   "cell_type": "code",
   "execution_count": 12,
   "metadata": {},
   "outputs": [],
   "source": [
    "# Assign to X, y\n",
    "features = ['Year', 'Horsepower', 'Doors', 'Transmission']\n",
    "target = 'MSRP'\n",
    "X_train = train[features]\n",
    "y_train = train[target]\n",
    "X_test = test[features]\n",
    "y_test = test[target]"
   ]
  },
  {
   "cell_type": "code",
   "execution_count": 33,
   "metadata": {},
   "outputs": [
    {
     "name": "stdout",
     "output_type": "stream",
     "text": [
      "Fitting 2 folds for each of 5 candidates, totalling 10 fits\n"
     ]
    },
    {
     "name": "stderr",
     "output_type": "stream",
     "text": [
      "[Parallel(n_jobs=-1)]: Using backend LokyBackend with 4 concurrent workers.\n",
      "[Parallel(n_jobs=-1)]: Done   5 out of  10 | elapsed:    6.8s remaining:    6.8s\n",
      "[Parallel(n_jobs=-1)]: Done   7 out of  10 | elapsed:    8.7s remaining:    3.7s\n",
      "[Parallel(n_jobs=-1)]: Done  10 out of  10 | elapsed:   10.0s finished\n"
     ]
    }
   ],
   "source": [
    "# Fitting a Tuned Random Forest Model \n",
    "import shap\n",
    "from scipy.stats import randint, uniform\n",
    "from sklearn.ensemble import RandomForestRegressor\n",
    "from sklearn.model_selection import RandomizedSearchCV\n",
    "from sklearn.linear_model import LogisticRegression\n",
    "\n",
    "param_distributions = { \n",
    "    'n_estimators': randint(50, 500), \n",
    "    'max_depth': [5, 10, 15, 20, None], \n",
    "    'max_features': uniform(0, 1), \n",
    "}\n",
    "\n",
    "search = RandomizedSearchCV(\n",
    "    RandomForestRegressor(random_state=42), \n",
    "    param_distributions=param_distributions, \n",
    "    n_iter=5, \n",
    "    cv=2, \n",
    "    scoring='neg_mean_absolute_error', \n",
    "    verbose=10, \n",
    "    return_train_score=True, \n",
    "    n_jobs=-1\n",
    ")\n",
    "\n",
    "search.fit(X_train, y_train);"
   ]
  },
  {
   "cell_type": "code",
   "execution_count": 34,
   "metadata": {},
   "outputs": [
    {
     "name": "stdout",
     "output_type": "stream",
     "text": [
      "Best hyperparameters {'max_depth': 15, 'max_features': 0.36617954232869165, 'n_estimators': 421}\n",
      "Cross-validation MAE 14387.679557491883\n"
     ]
    }
   ],
   "source": [
    "print('Best hyperparameters', search.best_params_)\n",
    "print('Cross-validation MAE', -search.best_score_)\n",
    "model = search.best_estimator_"
   ]
  },
  {
   "cell_type": "code",
   "execution_count": 35,
   "metadata": {},
   "outputs": [
    {
     "name": "stdout",
     "output_type": "stream",
     "text": [
      "MSRP is Estimated at $46,773 for this Vehicle. \n",
      "\n",
      "Starting from a baseline of $46,004. \n",
      "(Year, 2011)         9100.240996\n",
      "(Horsepower, 335)   -9174.565054\n",
      "(Doors, 2)           4665.202303\n",
      "(Transmission, 1)   -3822.257214\n"
     ]
    }
   ],
   "source": [
    "def predict(Year, Horsepower, Doors, Transmission):\n",
    "  new_df = pd.DataFrame(\n",
    "      data=[[Year, Horsepower, Doors, Transmission]],\n",
    "      columns=['Year', 'Horsepower', 'Doors', 'Transmission']\n",
    "  )\n",
    "  pred = model.predict(new_df)[0]\n",
    "\n",
    "  explainer = shap.TreeExplainer(model)\n",
    "  shap_values = explainer.shap_values(new_df)\n",
    "\n",
    "  feature_names = new_df.columns\n",
    "  feature_values = new_df.values[0]\n",
    "  shaps = pd.Series(shap_values[0], zip(feature_names, feature_values))\n",
    "\n",
    "  result = f'MSRP is Estimated at ${pred:,.0f} for this Vehicle. \\n\\n'\n",
    "  result += f'Starting from a baseline of ${explainer.expected_value:,.0f}. \\n'\n",
    "  result += shaps.to_string()\n",
    "  return result\n",
    "result = predict(Year=2011, Horsepower=335, Doors=2, Transmission=1)\n",
    "print (result)"
   ]
  },
  {
   "cell_type": "code",
   "execution_count": 36,
   "metadata": {},
   "outputs": [
    {
     "data": {
      "text/plain": [
       "'MSRP is Estimated at $42,897 for this Vehicle. \\n\\nStarting from a baseline of $46,004. \\n(Year, 2011)          5646.748430\\n(Horsepower, 335)   -10062.805131\\n(Doors, 2)             403.889953\\n(Transmission, 0)      904.844290'"
      ]
     },
     "execution_count": 36,
     "metadata": {},
     "output_type": "execute_result"
    }
   ],
   "source": [
    "predict(Year=2011, Horsepower=335, Doors=2, Transmission=0)"
   ]
  },
  {
   "cell_type": "code",
   "execution_count": 37,
   "metadata": {},
   "outputs": [
    {
     "data": {
      "text/plain": [
       "'MSRP is Estimated at $44,821 for this Vehicle. \\n\\nStarting from a baseline of $46,004. \\n(Year, 2015)         1737.028836\\n(Horsepower, 335)    1412.932939\\n(Doors, 2)           1769.453476\\n(Transmission, 1)   -6102.092773'"
      ]
     },
     "execution_count": 37,
     "metadata": {},
     "output_type": "execute_result"
    }
   ],
   "source": [
    "predict(Year=2015, Horsepower=335, Doors=2, Transmission=1)"
   ]
  },
  {
   "cell_type": "code",
   "execution_count": 18,
   "metadata": {},
   "outputs": [
    {
     "data": {
      "text/plain": [
       "'MSRP is Estimated at $45,941 for this Vehicle. \\n\\nStarting from a baseline of $45,997. \\n(Year, 2015)         2365.470496\\n(Horsepower, 300)   -3042.183804\\n(Doors, 4)          -1587.180067\\n(Transmission, 0)    2208.756023'"
      ]
     },
     "execution_count": 18,
     "metadata": {},
     "output_type": "execute_result"
    }
   ],
   "source": [
    "predict(Year=2015, Horsepower=300, Doors=4, Transmission=0)"
   ]
  },
  {
   "cell_type": "code",
   "execution_count": 17,
   "metadata": {},
   "outputs": [
    {
     "name": "stdout",
     "output_type": "stream",
     "text": [
      "Linear Regression R^2 0.4339749709393271\n"
     ]
    }
   ],
   "source": [
    "# Logistic Regression\n",
    "import category_encoders as ce\n",
    "from sklearn.linear_model import LinearRegression\n",
    "from sklearn.pipeline import make_pipeline\n",
    "from sklearn.preprocessing import StandardScaler\n",
    "\n",
    "lr = make_pipeline(\n",
    "    ce.OrdinalEncoder(), # Not ideal for Linear Regression \n",
    "    StandardScaler(), \n",
    "    LinearRegression()\n",
    ")\n",
    "\n",
    "lr.fit(X_train, y_train)\n",
    "print('Linear Regression R^2', lr.score(X_val, y_val))"
   ]
  },
  {
   "cell_type": "code",
   "execution_count": 18,
   "metadata": {},
   "outputs": [
    {
     "data": {
      "text/html": [
       "<div>\n",
       "<style scoped>\n",
       "    .dataframe tbody tr th:only-of-type {\n",
       "        vertical-align: middle;\n",
       "    }\n",
       "\n",
       "    .dataframe tbody tr th {\n",
       "        vertical-align: top;\n",
       "    }\n",
       "\n",
       "    .dataframe thead th {\n",
       "        text-align: right;\n",
       "    }\n",
       "</style>\n",
       "<table border=\"1\" class=\"dataframe\">\n",
       "  <thead>\n",
       "    <tr style=\"text-align: right;\">\n",
       "      <th></th>\n",
       "      <th>Year</th>\n",
       "      <th>Horsepower</th>\n",
       "      <th>Doors</th>\n",
       "      <th>Transmission</th>\n",
       "    </tr>\n",
       "  </thead>\n",
       "  <tbody>\n",
       "    <tr>\n",
       "      <td>20</td>\n",
       "      <td>1992</td>\n",
       "      <td>172.0</td>\n",
       "      <td>4.0</td>\n",
       "      <td>1.0</td>\n",
       "    </tr>\n",
       "  </tbody>\n",
       "</table>\n",
       "</div>"
      ],
      "text/plain": [
       "    Year  Horsepower  Doors  Transmission\n",
       "20  1992       172.0    4.0           1.0"
      ]
     },
     "execution_count": 18,
     "metadata": {},
     "output_type": "execute_result"
    }
   ],
   "source": [
    "example = X_val.iloc[[20]]\n",
    "example"
   ]
  },
  {
   "cell_type": "code",
   "execution_count": 21,
   "metadata": {},
   "outputs": [
    {
     "name": "stderr",
     "output_type": "stream",
     "text": [
      "/Users/Haden/.local/share/virtualenvs/Dash-App-poh2mlps/lib/python3.7/site-packages/xgboost/core.py:587: FutureWarning: Series.base is deprecated and will be removed in a future version\n",
      "  if getattr(data, 'base', None) is not None and \\\n"
     ]
    },
    {
     "name": "stdout",
     "output_type": "stream",
     "text": [
      "Gradient Boosting R^2 0.8173973794410121\n"
     ]
    }
   ],
   "source": [
    "# Gradient Boosting \n",
    "from xgboost import XGBRegressor\n",
    "from sklearn.metrics import r2_score\n",
    "import category_encoders as ce\n",
    "from sklearn.linear_model import LinearRegression\n",
    "from sklearn.pipeline import make_pipeline\n",
    "from sklearn.preprocessing import StandardScaler \n",
    "\n",
    "gb = make_pipeline(\n",
    "    ce.OrdinalEncoder(), \n",
    "    XGBRegressor(n_estimators=200, objective='reg:squarederror', n_jobs=-1)\n",
    ")\n",
    "\n",
    "gb.fit(X_train, y_train_log)\n",
    "y_pred_log = gb.predict(X_val)\n",
    "y_pred = np.expm1(y_pred_log)\n",
    "print('Gradient Boosting R^2', r2_score(y_val, y_pred))"
   ]
  },
  {
   "cell_type": "code",
   "execution_count": 22,
   "metadata": {},
   "outputs": [
    {
     "data": {
      "text/html": [
       "<div>\n",
       "<style scoped>\n",
       "    .dataframe tbody tr th:only-of-type {\n",
       "        vertical-align: middle;\n",
       "    }\n",
       "\n",
       "    .dataframe tbody tr th {\n",
       "        vertical-align: top;\n",
       "    }\n",
       "\n",
       "    .dataframe thead th {\n",
       "        text-align: right;\n",
       "    }\n",
       "</style>\n",
       "<table border=\"1\" class=\"dataframe\">\n",
       "  <thead>\n",
       "    <tr style=\"text-align: right;\">\n",
       "      <th></th>\n",
       "      <th>Year</th>\n",
       "      <th>Horsepower</th>\n",
       "      <th>Doors</th>\n",
       "      <th>Transmission</th>\n",
       "    </tr>\n",
       "  </thead>\n",
       "  <tbody>\n",
       "    <tr>\n",
       "      <td>18</td>\n",
       "      <td>1992</td>\n",
       "      <td>172.0</td>\n",
       "      <td>4.0</td>\n",
       "      <td>1.0</td>\n",
       "    </tr>\n",
       "  </tbody>\n",
       "</table>\n",
       "</div>"
      ],
      "text/plain": [
       "    Year  Horsepower  Doors  Transmission\n",
       "18  1992       172.0    4.0           1.0"
      ]
     },
     "execution_count": 22,
     "metadata": {},
     "output_type": "execute_result"
    }
   ],
   "source": [
    "example = X_val.iloc[[18]]\n",
    "example"
   ]
  },
  {
   "cell_type": "code",
   "execution_count": 25,
   "metadata": {},
   "outputs": [
    {
     "name": "stdout",
     "output_type": "stream",
     "text": [
      "Collecting plotly.express\n",
      "  Using cached https://files.pythonhosted.org/packages/d4/d6/8a2906f51e073a4be80cab35cfa10e7a34853e60f3ed5304ac470852a08d/plotly_express-0.4.1-py2.py3-none-any.whl\n",
      "Requirement already satisfied: pandas>=0.20.0 in /Users/Haden/.local/share/virtualenvs/Dash-App-poh2mlps/lib/python3.7/site-packages (from plotly.express) (0.25.1)\n",
      "Requirement already satisfied: numpy>=1.11 in /Users/Haden/.local/share/virtualenvs/Dash-App-poh2mlps/lib/python3.7/site-packages (from plotly.express) (1.17.1)\n",
      "Requirement already satisfied: scipy>=0.18 in /Users/Haden/.local/share/virtualenvs/Dash-App-poh2mlps/lib/python3.7/site-packages (from plotly.express) (1.3.1)\n",
      "Requirement already satisfied: statsmodels>=0.9.0 in /Users/Haden/.local/share/virtualenvs/Dash-App-poh2mlps/lib/python3.7/site-packages (from plotly.express) (0.10.1)\n",
      "Requirement already satisfied: plotly>=4.1.0 in /Users/Haden/.local/share/virtualenvs/Dash-App-poh2mlps/lib/python3.7/site-packages (from plotly.express) (4.1.0)\n",
      "Requirement already satisfied: patsy>=0.5 in /Users/Haden/.local/share/virtualenvs/Dash-App-poh2mlps/lib/python3.7/site-packages (from plotly.express) (0.5.1)\n",
      "Requirement already satisfied: python-dateutil>=2.6.1 in /Users/Haden/.local/share/virtualenvs/Dash-App-poh2mlps/lib/python3.7/site-packages (from pandas>=0.20.0->plotly.express) (2.8.0)\n",
      "Requirement already satisfied: pytz>=2017.2 in /Users/Haden/.local/share/virtualenvs/Dash-App-poh2mlps/lib/python3.7/site-packages (from pandas>=0.20.0->plotly.express) (2019.2)\n",
      "Requirement already satisfied: six in /Users/Haden/.local/share/virtualenvs/Dash-App-poh2mlps/lib/python3.7/site-packages (from plotly>=4.1.0->plotly.express) (1.12.0)\n",
      "Requirement already satisfied: retrying>=1.3.3 in /Users/Haden/.local/share/virtualenvs/Dash-App-poh2mlps/lib/python3.7/site-packages (from plotly>=4.1.0->plotly.express) (1.3.3)\n",
      "Installing collected packages: plotly.express\n",
      "Successfully installed plotly.express\n",
      "Note: you may need to restart the kernel to use updated packages.\n"
     ]
    }
   ],
   "source": [
    "pip install plotly.express"
   ]
  },
  {
   "cell_type": "code",
   "execution_count": 38,
   "metadata": {},
   "outputs": [
    {
     "data": {
      "text/plain": [
       "sklearn.ensemble.forest.RandomForestRegressor"
      ]
     },
     "execution_count": 38,
     "metadata": {},
     "output_type": "execute_result"
    }
   ],
   "source": [
    "type(model)"
   ]
  },
  {
   "cell_type": "code",
   "execution_count": 39,
   "metadata": {},
   "outputs": [
    {
     "data": {
      "text/html": [
       "['model.joblib']"
      ],
      "text/plain": [
       "['model.joblib']"
      ]
     },
     "execution_count": 39,
     "metadata": {},
     "output_type": "execute_result"
    }
   ],
   "source": [
    "from joblib import dump\n",
    "dump(model, 'model.joblib')"
   ]
  },
  {
   "cell_type": "code",
   "execution_count": 21,
   "metadata": {},
   "outputs": [
    {
     "data": {
      "text/plain": [
       "RandomForestRegressor(bootstrap=True, criterion='mse', max_depth=15,\n",
       "                      max_features=0.2873359408003402, max_leaf_nodes=None,\n",
       "                      min_impurity_decrease=0.0, min_impurity_split=None,\n",
       "                      min_samples_leaf=1, min_samples_split=2,\n",
       "                      min_weight_fraction_leaf=0.0, n_estimators=459,\n",
       "                      n_jobs=None, oob_score=False, random_state=42, verbose=0,\n",
       "                      warm_start=False)"
      ]
     },
     "execution_count": 21,
     "metadata": {},
     "output_type": "execute_result"
    }
   ],
   "source": [
    "model"
   ]
  },
  {
   "cell_type": "code",
   "execution_count": null,
   "metadata": {},
   "outputs": [],
   "source": []
  }
 ],
 "metadata": {
  "kernelspec": {
   "display_name": "Python 3",
   "language": "python",
   "name": "python3"
  },
  "language_info": {
   "codemirror_mode": {
    "name": "ipython",
    "version": 3
   },
   "file_extension": ".py",
   "mimetype": "text/x-python",
   "name": "python",
   "nbconvert_exporter": "python",
   "pygments_lexer": "ipython3",
   "version": "3.7.3"
  }
 },
 "nbformat": 4,
 "nbformat_minor": 2
}
